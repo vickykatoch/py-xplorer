{
 "cells": [
  {
   "cell_type": "code",
   "execution_count": 100,
   "metadata": {},
   "outputs": [],
   "source": [
    "import numpy as np\n",
    "import pandas as pd\n",
    "from matplotlib import pyplot as plt"
   ]
  },
  {
   "cell_type": "code",
   "execution_count": 96,
   "metadata": {},
   "outputs": [],
   "source": [
    "dataArray = [\n",
    "    [43,99],\n",
    "    [21, 65],\n",
    "    [25,79],\n",
    "    [42,75],\n",
    "    [57,87],\n",
    "    [59,81]\n",
    "]\n",
    "df = pd.DataFrame(dataArray,columns=['X','Y'])"
   ]
  },
  {
   "cell_type": "code",
   "execution_count": 98,
   "metadata": {},
   "outputs": [],
   "source": [
    "df = df.assign(XxY= lambda x: x.X * x.Y)\n",
    "df = df.assign(XxX= lambda x: x.X * x.X)\n",
    "df = df.assign(YxY= lambda x: x.Y * x.Y)"
   ]
  },
  {
   "attachments": {
    "image.png": {
     "image/png": "[encoded data removed]"
    }
   },
   "cell_type": "markdown",
   "metadata": {},
   "source": [
    "![image.png](attachment:image.png)"
   ]
  },
  {
   "cell_type": "code",
   "execution_count": 93,
   "metadata": {},
   "outputs": [],
   "source": [
    "# Calculates slope (b)\n",
    "def calcSlope(n_items,sum_of_x, sum_of_y, sum_of_xy, sum_of_x2):\n",
    "    numerator = (n_items * sum_of_xy) - (sum_of_x * sum_of_y)\n",
    "    denominator = (n_items*sum_of_x2) - (sum_of_x*sum_of_x)\n",
    "    return numerator / denominator\n",
    "\n",
    "# Calculates Y-intercept (a)\n",
    "def calcIntercept(n_items,sum_of_x, sum_of_y, sum_of_xy, sum_of_x2):\n",
    "    numerator = (sum_of_y * sum_of_x2) - (sum_of_x * sum_of_xy)\n",
    "    denominator = (n_items*sum_of_x2) - (sum_of_x*sum_of_x)\n",
    "    return numerator / denominator\n",
    "# Linear regression (y` = a + bx) where y is regression value, a is intercept & b is slope\n",
    "# regression = intercept + slope * x\n",
    "def regression(x, slope, intercept):\n",
    "    return intercept + (slope * x)"
   ]
  },
  {
   "cell_type": "code",
   "execution_count": 99,
   "metadata": {},
   "outputs": [],
   "source": [
    "sum_of_x = df['X'].sum()\n",
    "sum_of_y = df['Y'].sum()\n",
    "sum_of_xy = df['XxY'].sum()\n",
    "sum_of_x2 = df['XxX'].sum()\n",
    "slope = calcSlope(len(df),sum_of_x,sum_of_y,sum_of_xy,sum_of_x2)\n",
    "intercept = calcIntercept(len(df),sum_of_x,sum_of_y,sum_of_xy,sum_of_x2)\n",
    "df = df.assign(RL= lambda x: regression(x.X,slope, intercept))"
   ]
  },
  {
   "cell_type": "code",
   "execution_count": 92,
   "metadata": {},
   "outputs": [
    {
     "data": {
      "text/html": [
       "<div>\n",
       "<style scoped>\n",
       "    .dataframe tbody tr th:only-of-type {\n",
       "        vertical-align: middle;\n",
       "    }\n",
       "\n",
       "    .dataframe tbody tr th {\n",
       "        vertical-align: top;\n",
       "    }\n",
       "\n",
       "    .dataframe thead th {\n",
       "        text-align: right;\n",
       "    }\n",
       "</style>\n",
       "<table border=\"1\" class=\"dataframe\">\n",
       "  <thead>\n",
       "    <tr style=\"text-align: right;\">\n",
       "      <th></th>\n",
       "      <th>Age</th>\n",
       "      <th>Glucose</th>\n",
       "      <th>AgeXGlu</th>\n",
       "      <th>XxX</th>\n",
       "      <th>YxY</th>\n",
       "      <th>RL</th>\n",
       "    </tr>\n",
       "  </thead>\n",
       "  <tbody>\n",
       "    <tr>\n",
       "      <th>0</th>\n",
       "      <td>43</td>\n",
       "      <td>99</td>\n",
       "      <td>4257</td>\n",
       "      <td>1849</td>\n",
       "      <td>9801</td>\n",
       "      <td>81.706246</td>\n",
       "    </tr>\n",
       "    <tr>\n",
       "      <th>1</th>\n",
       "      <td>21</td>\n",
       "      <td>65</td>\n",
       "      <td>1365</td>\n",
       "      <td>441</td>\n",
       "      <td>4225</td>\n",
       "      <td>73.231296</td>\n",
       "    </tr>\n",
       "    <tr>\n",
       "      <th>2</th>\n",
       "      <td>25</td>\n",
       "      <td>79</td>\n",
       "      <td>1975</td>\n",
       "      <td>625</td>\n",
       "      <td>6241</td>\n",
       "      <td>74.772196</td>\n",
       "    </tr>\n",
       "    <tr>\n",
       "      <th>3</th>\n",
       "      <td>42</td>\n",
       "      <td>75</td>\n",
       "      <td>3150</td>\n",
       "      <td>1764</td>\n",
       "      <td>5625</td>\n",
       "      <td>81.321021</td>\n",
       "    </tr>\n",
       "    <tr>\n",
       "      <th>4</th>\n",
       "      <td>57</td>\n",
       "      <td>87</td>\n",
       "      <td>4959</td>\n",
       "      <td>3249</td>\n",
       "      <td>7569</td>\n",
       "      <td>87.099396</td>\n",
       "    </tr>\n",
       "    <tr>\n",
       "      <th>5</th>\n",
       "      <td>59</td>\n",
       "      <td>81</td>\n",
       "      <td>4779</td>\n",
       "      <td>3481</td>\n",
       "      <td>6561</td>\n",
       "      <td>87.869846</td>\n",
       "    </tr>\n",
       "  </tbody>\n",
       "</table>\n",
       "</div>"
      ],
      "text/plain": [
       "   Age  Glucose  AgeXGlu   XxX   YxY         RL\n",
       "0   43       99     4257  1849  9801  81.706246\n",
       "1   21       65     1365   441  4225  73.231296\n",
       "2   25       79     1975   625  6241  74.772196\n",
       "3   42       75     3150  1764  5625  81.321021\n",
       "4   57       87     4959  3249  7569  87.099396\n",
       "5   59       81     4779  3481  6561  87.869846"
      ]
     },
     "execution_count": 92,
     "metadata": {},
     "output_type": "execute_result"
    }
   ],
   "source": [
    "df"
   ]
  },
  {
   "cell_type": "code",
   "execution_count": 101,
   "metadata": {},
   "outputs": [
    {
     "data": {
      "image/png": "[encoded data removed]",
      "text/plain": [
       "<Figure size 432x288 with 1 Axes>"
      ]
     },
     "metadata": {
      "needs_background": "light"
     },
     "output_type": "display_data"
    }
   ],
   "source": [
    "plt.scatter(df.X, df.Y)\n",
    "plt.show()"
   ]
  },
  {
   "cell_type": "code",
   "execution_count": null,
   "metadata": {},
   "outputs": [],
   "source": []
  }
 ],
 "metadata": {
  "kernelspec": {
   "display_name": "Python 3",
   "language": "python",
   "name": "python3"
  },
  "language_info": {
   "codemirror_mode": {
    "name": "ipython",
    "version": 3
   },
   "file_extension": ".py",
   "mimetype": "text/x-python",
   "name": "python",
   "nbconvert_exporter": "python",
   "pygments_lexer": "ipython3",
   "version": "3.7.6"
  }
 },
 "nbformat": 4,
 "nbformat_minor": 4
}
