{
 "cells": [
  {
   "cell_type": "code",
   "execution_count": 1,
   "metadata": {},
   "outputs": [],
   "source": [
    "import pandas as pd\n",
    "import numpy as np\n",
    "from os import path"
   ]
  },
  {
   "cell_type": "code",
   "execution_count": 16,
   "metadata": {},
   "outputs": [
    {
     "name": "stderr",
     "output_type": "stream",
     "text": [
      "C:\\Users\\vicky\\Anaconda3\\lib\\site-packages\\IPython\\core\\interactiveshell.py:3063: DtypeWarning: Columns (9,13) have mixed types.Specify dtype option on import or set low_memory=False.\n",
      "  interactivity=interactivity, compiler=compiler, result=result)\n"
     ]
    }
   ],
   "source": [
    "artist_df = pd.read_csv('../data/artwork_data.csv', index_col='id')"
   ]
  },
  {
   "cell_type": "code",
   "execution_count": 18,
   "metadata": {},
   "outputs": [
    {
     "name": "stdout",
     "output_type": "stream",
     "text": [
      "Help on method where in module pandas.core.generic:\n",
      "\n",
      "where(cond, other=nan, inplace=False, axis=None, level=None, errors='raise', try_cast=False) method of pandas.core.frame.DataFrame instance\n",
      "    Replace values where the condition is False.\n",
      "    \n",
      "    Parameters\n",
      "    ----------\n",
      "    cond : bool Series/DataFrame, array-like, or callable\n",
      "        Where `cond` is True, keep the original value. Where\n",
      "        False, replace with corresponding value from `other`.\n",
      "        If `cond` is callable, it is computed on the Series/DataFrame and\n",
      "        should return boolean Series/DataFrame or array. The callable must\n",
      "        not change input Series/DataFrame (though pandas doesn't check it).\n",
      "    other : scalar, Series/DataFrame, or callable\n",
      "        Entries where `cond` is False are replaced with\n",
      "        corresponding value from `other`.\n",
      "        If other is callable, it is computed on the Series/DataFrame and\n",
      "        should return scalar or Series/DataFrame. The callable must not\n",
      "        change input Series/DataFrame (though pandas doesn't check it).\n",
      "    inplace : bool, default False\n",
      "        Whether to perform the operation in place on the data.\n",
      "    axis : int, default None\n",
      "        Alignment axis if needed.\n",
      "    level : int, default None\n",
      "        Alignment level if needed.\n",
      "    errors : str, {'raise', 'ignore'}, default 'raise'\n",
      "        Note that currently this parameter won't affect\n",
      "        the results and will always coerce to a suitable dtype.\n",
      "    \n",
      "        - 'raise' : allow exceptions to be raised.\n",
      "        - 'ignore' : suppress exceptions. On error return original object.\n",
      "    \n",
      "    try_cast : bool, default False\n",
      "        Try to cast the result back to the input type (if possible).\n",
      "    \n",
      "    Returns\n",
      "    -------\n",
      "    Same type as caller\n",
      "    \n",
      "    See Also\n",
      "    --------\n",
      "    :func:`DataFrame.mask` : Return an object of same shape as\n",
      "        self.\n",
      "    \n",
      "    Notes\n",
      "    -----\n",
      "    The where method is an application of the if-then idiom. For each\n",
      "    element in the calling DataFrame, if ``cond`` is ``True`` the\n",
      "    element is used; otherwise the corresponding element from the DataFrame\n",
      "    ``other`` is used.\n",
      "    \n",
      "    The signature for :func:`DataFrame.where` differs from\n",
      "    :func:`numpy.where`. Roughly ``df1.where(m, df2)`` is equivalent to\n",
      "    ``np.where(m, df1, df2)``.\n",
      "    \n",
      "    For further details and examples see the ``where`` documentation in\n",
      "    :ref:`indexing <indexing.where_mask>`.\n",
      "    \n",
      "    Examples\n",
      "    --------\n",
      "    >>> s = pd.Series(range(5))\n",
      "    >>> s.where(s > 0)\n",
      "    0    NaN\n",
      "    1    1.0\n",
      "    2    2.0\n",
      "    3    3.0\n",
      "    4    4.0\n",
      "    dtype: float64\n",
      "    \n",
      "    >>> s.mask(s > 0)\n",
      "    0    0.0\n",
      "    1    NaN\n",
      "    2    NaN\n",
      "    3    NaN\n",
      "    4    NaN\n",
      "    dtype: float64\n",
      "    \n",
      "    >>> s.where(s > 1, 10)\n",
      "    0    10\n",
      "    1    10\n",
      "    2    2\n",
      "    3    3\n",
      "    4    4\n",
      "    dtype: int64\n",
      "    \n",
      "    >>> df = pd.DataFrame(np.arange(10).reshape(-1, 2), columns=['A', 'B'])\n",
      "    >>> df\n",
      "       A  B\n",
      "    0  0  1\n",
      "    1  2  3\n",
      "    2  4  5\n",
      "    3  6  7\n",
      "    4  8  9\n",
      "    >>> m = df % 3 == 0\n",
      "    >>> df.where(m, -df)\n",
      "       A  B\n",
      "    0  0 -1\n",
      "    1 -2  3\n",
      "    2 -4 -5\n",
      "    3  6 -7\n",
      "    4 -8  9\n",
      "    >>> df.where(m, -df) == np.where(m, df, -df)\n",
      "          A     B\n",
      "    0  True  True\n",
      "    1  True  True\n",
      "    2  True  True\n",
      "    3  True  True\n",
      "    4  True  True\n",
      "    >>> df.where(m, -df) == df.mask(~m, -df)\n",
      "          A     B\n",
      "    0  True  True\n",
      "    1  True  True\n",
      "    2  True  True\n",
      "    3  True  True\n",
      "    4  True  True\n",
      "\n"
     ]
    }
   ],
   "source": [
    "artist_df.where"
   ]
  },
  {
   "cell_type": "code",
   "execution_count": null,
   "metadata": {},
   "outputs": [],
   "source": []
  }
 ],
 "metadata": {
  "kernelspec": {
   "display_name": "Python 3",
   "language": "python",
   "name": "python3"
  },
  "language_info": {
   "codemirror_mode": {
    "name": "ipython",
    "version": 3
   },
   "file_extension": ".py",
   "mimetype": "text/x-python",
   "name": "python",
   "nbconvert_exporter": "python",
   "pygments_lexer": "ipython3",
   "version": "3.7.6"
  }
 },
 "nbformat": 4,
 "nbformat_minor": 4
}
